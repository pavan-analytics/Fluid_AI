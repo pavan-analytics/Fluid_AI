{
  "nbformat": 4,
  "nbformat_minor": 0,
  "metadata": {
    "colab": {
      "provenance": [],
      "authorship_tag": "ABX9TyMs9hfOpeoBOedK2Zo90txw",
      "include_colab_link": true
    },
    "kernelspec": {
      "name": "python3",
      "display_name": "Python 3"
    },
    "language_info": {
      "name": "python"
    }
  },
  "cells": [
    {
      "cell_type": "markdown",
      "metadata": {
        "id": "view-in-github",
        "colab_type": "text"
      },
      "source": [
        "<a href=\"https://colab.research.google.com/github/pavan-analytics/Fluid_AI/blob/main/Fluid_AI.ipynb\" target=\"_parent\"><img src=\"https://colab.research.google.com/assets/colab-badge.svg\" alt=\"Open In Colab\"/></a>"
      ]
    },
    {
      "cell_type": "code",
      "source": [
        "import PyPDF2\n",
        "import spacy\n",
        "from collections import defaultdict"
      ],
      "metadata": {
        "id": "PavanS-8502r"
      },
      "execution_count": null,
      "outputs": []
    },
    {
      "cell_type": "code",
      "source": [
        "# Loading NLP model\n",
        "nlp = spacy.load(\"en_core_web_sm\")"
      ],
      "metadata": {
        "id": "UaWALezD7EDj"
      },
      "execution_count": null,
      "outputs": []
    },
    {
      "cell_type": "code",
      "source": [
        "# Extracting text from a PDF file\n",
        "def extract_text_from_pdf(pdf_path):\n",
        "    text = \"\"\n",
        "    with open(pdf_path, \"rb\") as file:\n",
        "        pdf_reader = PyPDF2.PdfReader(file)\n",
        "        for page in pdf_reader.pages:\n",
        "            text += page.extract_text() + \"\\n\"\n",
        "    return text"
      ],
      "metadata": {
        "id": "maJ9XcSD7LVp"
      },
      "execution_count": null,
      "outputs": []
    },
    {
      "cell_type": "code",
      "source": [
        "#Removing irrelevant sentences based on keywords.\n",
        "def clean_sentence(sentence):\n",
        "    ignore_phrases = [\"As a reminder\", \"I will pass on the dais\", \"My first question is\", \"Ladies and gentlemen\"]\n",
        "    return not any(phrase in sentence for phrase in ignore_phrases)"
      ],
      "metadata": {
        "id": "Pm7nUDhU_JSD"
      },
      "execution_count": null,
      "outputs": []
    },
    {
      "cell_type": "code",
      "source": [
        "#Extracting and summarizes key insights with refined filtering..\n",
        "def extract_key_insights(text, max_sentences=3):\n",
        "    \"\"\"Extracts and summarizes key insights with refined filtering.\"\"\"\n",
        "    doc = nlp(text)\n",
        "\n",
        "    sections = defaultdict(list)\n",
        "    keywords = {\n",
        "        \"Future Growth Prospects\": [\"growth\", \"opportunity\", \"expansion\", \"forecast\"],\n",
        "        \"Key Changes in Business\": [\"acquisition\", \"merger\", \"strategy\", \"restructuring\"],\n",
        "        \"Key Triggers\": [\"new product\", \"market shift\", \"technology\", \"partnership\"],\n",
        "        \"Material Effects on Next Year's Earnings & Growth\": [\"revenue\", \"profit\", \"margin\", \"guidance\"]\n",
        "    }\n",
        "\n",
        "    for sent in doc.sents:\n",
        "        sentence_text = sent.text.strip()\n",
        "        if clean_sentence(sentence_text):  # Filter out irrelevant sentences\n",
        "            for category, words in keywords.items():\n",
        "                if any(word in sentence_text.lower() for word in words):\n",
        "                    sections[category].append(sentence_text)\n",
        "\n",
        "    # Limiting the output to a maximum number of sentences per category\n",
        "    summarized_sections = {category: \" \".join(sentences[:max_sentences]) for category, sentences in sections.items()}\n",
        "\n",
        "    return summarized_sections"
      ],
      "metadata": {
        "id": "7qNPqetY78vv"
      },
      "execution_count": null,
      "outputs": []
    },
    {
      "cell_type": "code",
      "source": [
        "#File path\n",
        "pdf_path = \"/content/SJS Transcript Call.pdf\""
      ],
      "metadata": {
        "id": "l1QWp40a8Cmd"
      },
      "execution_count": null,
      "outputs": []
    },
    {
      "cell_type": "code",
      "source": [
        "# Extracting text\n",
        "text = extract_text_from_pdf(pdf_path)"
      ],
      "metadata": {
        "id": "Q2vdYWw68Eye"
      },
      "execution_count": null,
      "outputs": []
    },
    {
      "cell_type": "code",
      "source": [
        "# Extracting insights\n",
        "insights = extract_key_insights(text, max_sentences=3)"
      ],
      "metadata": {
        "id": "Zy3AEg108gAF"
      },
      "execution_count": null,
      "outputs": []
    },
    {
      "cell_type": "code",
      "source": [
        "# Print structured output\n",
        "for category, summary in insights.items():\n",
        "    print(f\"\\n{category}:\\n{'-'*50}\\n{summary}\\n\")"
      ],
      "metadata": {
        "colab": {
          "base_uri": "https://localhost:8080/"
        },
        "id": "I6vO6yA28ijh",
        "outputId": "0ccac916-6588-469b-f900-d192c0836cb2"
      },
      "execution_count": null,
      "outputs": [
        {
          "output_type": "stream",
          "name": "stdout",
          "text": [
            "\n",
            "Future Growth Prospects:\n",
            "--------------------------------------------------\n",
            "Sanjay will take you all through the industry view , our business performance and also give a \n",
            "strategic outloo k for the future growth of the company at the end. After the  successful acquisition of Exot ech and the robust performance we delivered there in the \n",
            "last two years, we have gained more confidence in our execution capabilities of acquiring and \n",
            "integrating com panies that could take SJS to the next  level of growth. With Walter Pack acquisition, we have not only acquired a very large growth and high margin \n",
            "business at a good valuation, but at the same time achieved many k ey strategic objectives in \n",
            "terms of addition of new and emerging technologies, new customers, manufacturing capabilities \n",
            "and increase management bandwidth.\n",
            "\n",
            "\n",
            "Key Changes in Business:\n",
            "--------------------------------------------------\n",
            "After the  successful acquisition of Exot ech and the robust performance we delivered there in the \n",
            "last two years, we have gained more confidence in our execution capabilities of acquiring and \n",
            "integrating com panies that could take SJS to the next  level of growth. We now strongly believe \n",
            "that to strengthen our market leadership in the aesthetic business , inorganic acquisitions will \n",
            "continue to be our core strategy going forward. Walter Pack  acquisition has ope ned up a plethora of new opportunities for us.\n",
            "\n",
            "\n",
            "Material Effects on Next Year's Earnings & Growth:\n",
            "--------------------------------------------------\n",
            "According to SJ S Q1 F Y24 pro forma  \n",
            "numbers, which includes Walter  Pack  India , 36% revenue contribution would be from two \n",
            "wheelers, 36% from passenger vehicles and 28% from consumer appliances and others. With Walter Pack acquisition, we have not only acquired a very large growth and high margin \n",
            "business at a good valuation, but at the same time achieved many k ey strategic objectives in \n",
            "terms of addition of new and emerging technologies, new customers, manufacturing capabilities \n",
            "and increase management bandwidth. This will ensure seamless integration in the \n",
            "short term and harnessing optimum  revenue synergies in the medium  term.\n",
            "\n",
            "\n",
            "Key Triggers:\n",
            "--------------------------------------------------\n",
            "Moving ahead, we are absolutely on track in executing our orga nic \n",
            "growth strategy by addressing the aesthetic  requirements of multiple end industry segments, \n",
            "increasing our global presence, introduction of new technology products and building mega \n",
            "customer accounts. SJS has already started accelerating its efforts to increase its val ue in both two-wheeler , \n",
            "passenger vehicle and consumer segments with the addition of new technology premium \n",
            "products . And sir, we understand that Exotech margins on Q oQ has slightly dropped , possibly we \n",
            "understand tha t due to the new products development, trial runs and etc ., So wanted to \n",
            "understand, what could be the sustainable annual margin and where do you see it in the next \n",
            "three years?\n",
            "\n"
          ]
        }
      ]
    }
  ]
}